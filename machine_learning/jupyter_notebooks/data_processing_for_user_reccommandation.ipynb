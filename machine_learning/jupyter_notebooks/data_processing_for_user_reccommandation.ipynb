{
 "cells": [
  {
   "cell_type": "code",
   "id": "initial_id",
   "metadata": {
    "collapsed": true,
    "ExecuteTime": {
     "end_time": "2024-08-05T01:08:16.119400Z",
     "start_time": "2024-08-05T01:08:16.117052Z"
    }
   },
   "source": [
    "# Importing necessary libraries\n",
    "import pandas as pd\n",
    "import numpy as np"
   ],
   "outputs": [],
   "execution_count": 1
  },
  {
   "metadata": {
    "ExecuteTime": {
     "end_time": "2024-08-05T01:08:16.495903Z",
     "start_time": "2024-08-05T01:08:16.120738Z"
    }
   },
   "cell_type": "code",
   "source": [
    "# Reading the data\n",
    "movies_ml_25m = pd.read_csv('../data/raw/ml-25m/movies.csv')\n",
    "# ratings_ml_25m = pd.read_csv('../data/raw/ml-25m/ratings.csv')\n",
    "tags_ml_25m = pd.read_csv('../data/raw/ml-25m/tags.csv')"
   ],
   "id": "16cce8ca914feffb",
   "outputs": [],
   "execution_count": 2
  },
  {
   "metadata": {},
   "cell_type": "markdown",
   "source": "## Collaborative Filtering with Surprise",
   "id": "2ea215caa539a2d7"
  },
  {
   "metadata": {
    "ExecuteTime": {
     "end_time": "2024-08-05T01:08:16.499120Z",
     "start_time": "2024-08-05T01:08:16.496721Z"
    }
   },
   "cell_type": "code",
   "source": [
    "# from surprise import Dataset, Reader, SVD\n",
    "# from surprise.model_selection import train_test_split\n",
    "# from surprise import accuracy\n",
    "# \n",
    "# # Load the ratings data\n",
    "# reader = Reader(line_format='user item rating timestamp', sep=',', skip_lines=1)\n",
    "# ratings_data_for_surprise = Dataset.load_from_file('../data/raw/ml-25m/ratings.csv', reader=reader)"
   ],
   "id": "99fed210200e22dc",
   "outputs": [],
   "execution_count": 3
  },
  {
   "metadata": {
    "ExecuteTime": {
     "end_time": "2024-08-05T01:08:16.502467Z",
     "start_time": "2024-08-05T01:08:16.499923Z"
    }
   },
   "cell_type": "code",
   "source": [
    "# # Split the data into training and testing sets\n",
    "# trainset, testset = train_test_split(ratings_data_for_surprise, test_size=0.1)\n",
    "# \n",
    "# # Use the SVD algorithm\n",
    "# algo = SVD()\n",
    "# \n",
    "# # Train the model\n",
    "# algo.fit(trainset)"
   ],
   "id": "81b2b26ec08358ef",
   "outputs": [],
   "execution_count": 4
  },
  {
   "metadata": {
    "ExecuteTime": {
     "end_time": "2024-08-05T01:08:16.505697Z",
     "start_time": "2024-08-05T01:08:16.503615Z"
    }
   },
   "cell_type": "code",
   "source": [
    "# Predict and evaluate\n",
    "# predictions = algo.test(testset)\n",
    "# rmse = accuracy.rmse(predictions)"
   ],
   "id": "c69b2d306f9f33fb",
   "outputs": [],
   "execution_count": 5
  },
  {
   "metadata": {
    "ExecuteTime": {
     "end_time": "2024-08-05T01:08:16.508645Z",
     "start_time": "2024-08-05T01:08:16.506622Z"
    }
   },
   "cell_type": "code",
   "source": [
    "# from joblib import dump\n",
    "# \n",
    "# # Save the trained model\n",
    "# dump(algo, '../models/collaborative_filtering_model.joblib')"
   ],
   "id": "526e4416764a26ce",
   "outputs": [],
   "execution_count": 6
  },
  {
   "metadata": {},
   "cell_type": "markdown",
   "source": "## Content-Based Filtering",
   "id": "96a3d355da896465"
  },
  {
   "metadata": {
    "ExecuteTime": {
     "end_time": "2024-08-05T01:08:17.115262Z",
     "start_time": "2024-08-05T01:08:16.510780Z"
    }
   },
   "cell_type": "code",
   "source": [
    "# Change NaN tags to empty strings\n",
    "tags_ml_25m['tag'] = tags_ml_25m['tag'].fillna('')\n",
    "# Merge movies and tags based on movieId\n",
    "movie_tags = tags_ml_25m.groupby('movieId')['tag'].apply(lambda x: ' '.join(x)).reset_index()"
   ],
   "id": "ebf1cc618dd4126e",
   "outputs": [],
   "execution_count": 7
  },
  {
   "metadata": {
    "ExecuteTime": {
     "end_time": "2024-08-05T01:08:17.125598Z",
     "start_time": "2024-08-05T01:08:17.116005Z"
    }
   },
   "cell_type": "code",
   "source": [
    "# combine data\n",
    "movies_with_tags = movies_ml_25m.merge(movie_tags, on='movieId', how='left')"
   ],
   "id": "1e7a722d0fdd4b44",
   "outputs": [],
   "execution_count": 8
  },
  {
   "metadata": {
    "ExecuteTime": {
     "end_time": "2024-08-05T01:08:17.142309Z",
     "start_time": "2024-08-05T01:08:17.127284Z"
    }
   },
   "cell_type": "code",
   "source": [
    "# Fill the NaN values with empty strings\n",
    "movies_with_tags['tag'] = movies_with_tags['tag'].fillna('')"
   ],
   "id": "6aee93ed8c28f6c8",
   "outputs": [],
   "execution_count": 9
  },
  {
   "metadata": {
    "ExecuteTime": {
     "end_time": "2024-08-05T01:08:17.183140Z",
     "start_time": "2024-08-05T01:08:17.143863Z"
    }
   },
   "cell_type": "code",
   "source": [
    "# Combine genres and tags into a single feature\n",
    "movies_with_tags['combined_features'] = movies_with_tags['genres'] + ' ' + movies_with_tags['tag']\n",
    "movies_with_tags['combined_features'] = movies_with_tags['combined_features'].str.replace('|', ' ')"
   ],
   "id": "a6712c8656fbc2a9",
   "outputs": [],
   "execution_count": 10
  },
  {
   "metadata": {
    "ExecuteTime": {
     "end_time": "2024-08-05T01:08:17.879365Z",
     "start_time": "2024-08-05T01:08:17.184379Z"
    }
   },
   "cell_type": "code",
   "source": [
    "# Feature extraction\n",
    "from sklearn.feature_extraction.text import TfidfVectorizer\n",
    "\n",
    "tfidf = TfidfVectorizer(stop_words='english')\n",
    "tfidf_matrix = tfidf.fit_transform(movies_with_tags['combined_features'])"
   ],
   "id": "d69d5c0aab59f9ad",
   "outputs": [],
   "execution_count": 11
  },
  {
   "metadata": {
    "ExecuteTime": {
     "end_time": "2024-08-05T01:08:17.884857Z",
     "start_time": "2024-08-05T01:08:17.880618Z"
    }
   },
   "cell_type": "code",
   "source": [
    "from scipy.sparse import csr_matrix\n",
    "\n",
    "# Convert TF-IDF matrix to sparse format\n",
    "tfidf_sparse_matrix = csr_matrix(tfidf_matrix)"
   ],
   "id": "dd41aa455d9a1c74",
   "outputs": [],
   "execution_count": 12
  },
  {
   "metadata": {
    "ExecuteTime": {
     "end_time": "2024-08-05T01:08:17.934615Z",
     "start_time": "2024-08-05T01:08:17.886439Z"
    }
   },
   "cell_type": "code",
   "source": [
    "from sklearn.metrics.pairwise import cosine_similarity\n",
    "from scipy.sparse import csr_matrix, vstack\n",
    "\n",
    "# Function to compute cosine similarity in batches and convert to sparse format\n",
    "def compute_cosine_similarity_in_batches(tfidf_matrix, batch_size=1000):\n",
    "    n_movies = tfidf_matrix.shape[0]\n",
    "    sparse_cosine_sim = []\n",
    "\n",
    "    for start in range(0, n_movies, batch_size):\n",
    "        end = min(start + batch_size, n_movies)\n",
    "        # Compute the cosine similarity for the current batch\n",
    "        batch_cosine_sim = cosine_similarity(tfidf_matrix[start:end], tfidf_matrix)\n",
    "        # Convert the batch to sparse format\n",
    "        sparse_batch = csr_matrix(batch_cosine_sim)\n",
    "        # Append the sparse batch to the list\n",
    "        sparse_cosine_sim.append(sparse_batch)\n",
    "\n",
    "    # Stack all sparse batches vertically to form the full sparse matrix\n",
    "    return vstack(sparse_cosine_sim)"
   ],
   "id": "3fe10c0a9f591f6b",
   "outputs": [],
   "execution_count": 13
  },
  {
   "metadata": {
    "ExecuteTime": {
     "end_time": "2024-08-05T01:09:41.078932Z",
     "start_time": "2024-08-05T01:08:17.935410Z"
    }
   },
   "cell_type": "code",
   "source": [
    "# Compute cosine similarity in batches\n",
    "cosine_sim_sparse = compute_cosine_similarity_in_batches(tfidf_sparse_matrix, batch_size=500)"
   ],
   "id": "12cf349f26db61ad",
   "outputs": [],
   "execution_count": 14
  },
  {
   "metadata": {
    "ExecuteTime": {
     "end_time": "2024-08-05T01:09:51.824474Z",
     "start_time": "2024-08-05T01:09:41.085246Z"
    }
   },
   "cell_type": "code",
   "source": [
    "# Save the cosine similarity matrix\n",
    "from joblib import dump\n",
    "\n",
    "# Save the TF-IDF vectorizer and the cosine similarity matrix\n",
    "dump(tfidf, '../models/tfidf_vectorizer.joblib')\n",
    "dump(cosine_sim_sparse, '../models/cosine_similarity_matrix.joblib')"
   ],
   "id": "d79a4257e71c98c0",
   "outputs": [
    {
     "data": {
      "text/plain": [
       "['../models/cosine_similarity_matrix.joblib']"
      ]
     },
     "execution_count": 15,
     "metadata": {},
     "output_type": "execute_result"
    }
   ],
   "execution_count": 15
  },
  {
   "metadata": {
    "ExecuteTime": {
     "end_time": "2024-08-05T01:30:51.701309Z",
     "start_time": "2024-08-05T01:18:12.155774Z"
    }
   },
   "cell_type": "code",
   "source": [
    "from scipy.sparse import save_npz\n",
    "\n",
    "save_npz('../models/sparse_similarity_matrix.npz', cosine_sim_sparse)"
   ],
   "id": "7839db9ac55ed0f6",
   "outputs": [],
   "execution_count": 16
  },
  {
   "metadata": {},
   "cell_type": "code",
   "outputs": [],
   "execution_count": null,
   "source": "",
   "id": "e1426c99aa8e55d0"
  }
 ],
 "metadata": {
  "kernelspec": {
   "display_name": "Python 3",
   "language": "python",
   "name": "python3"
  },
  "language_info": {
   "codemirror_mode": {
    "name": "ipython",
    "version": 2
   },
   "file_extension": ".py",
   "mimetype": "text/x-python",
   "name": "python",
   "nbconvert_exporter": "python",
   "pygments_lexer": "ipython2",
   "version": "2.7.6"
  }
 },
 "nbformat": 4,
 "nbformat_minor": 5
}
