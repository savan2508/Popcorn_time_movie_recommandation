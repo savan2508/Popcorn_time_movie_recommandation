{
 "cells": [
  {
   "cell_type": "code",
   "id": "initial_id",
   "metadata": {
    "collapsed": true,
    "ExecuteTime": {
     "end_time": "2024-08-04T01:04:36.481540Z",
     "start_time": "2024-08-04T01:04:36.478504Z"
    }
   },
   "source": [
    "# Test the model\n",
    "# import the necessary libraries\n",
    "\n",
    "import numpy as np\n",
    "import pandas as pd\n",
    "import joblib"
   ],
   "outputs": [],
   "execution_count": 88
  },
  {
   "metadata": {
    "ExecuteTime": {
     "end_time": "2024-08-04T01:04:36.791753Z",
     "start_time": "2024-08-04T01:04:36.483331Z"
    }
   },
   "cell_type": "code",
   "source": [
    "# Load the model\n",
    "model = joblib.load('../models/genre_model_based_number_of_rating.pkl')\n",
    "\n",
    "# Load the encoder\n",
    "age_encoder = joblib.load('../models/age_ohe.pkl')\n",
    "occupation_encoder = joblib.load('../models/occupation_ohe.pkl')\n",
    "\n",
    "# Load the genre columns\n",
    "genre_columns = joblib.load('../models/genre_columns.pkl')\n",
    "\n",
    "# Load the age map\n",
    "age_map = joblib.load('../models/age_map.pkl')"
   ],
   "id": "98a34454f762dd7c",
   "outputs": [],
   "execution_count": 89
  },
  {
   "metadata": {
    "ExecuteTime": {
     "end_time": "2024-08-04T01:04:36.797107Z",
     "start_time": "2024-08-04T01:04:36.792616Z"
    }
   },
   "cell_type": "code",
   "source": [
    "# Define the function for age range mapping\n",
    "def age_map_convertor(age):\n",
    "    if age <= 18:\n",
    "        return 1\n",
    "    elif age <= 24:\n",
    "        return 18\n",
    "    elif age <= 34:\n",
    "        return 25\n",
    "    elif age <= 44:\n",
    "        return 35\n",
    "    elif age <= 49:\n",
    "        return 45\n",
    "    elif age <= 55:\n",
    "        return 50\n",
    "    else:\n",
    "        return 56\n",
    "\n",
    "# Define the function to prepare the data\n",
    "def prepare_data(age, occupation, gender):\n",
    "    # Map the age to the corresponding range key\n",
    "    age_str = age_map[age_map_convertor(age)]\n",
    "\n",
    "    # Ensure that age and occupation are in 2D format\n",
    "    age_input = np.array(age_str).reshape(1, -1)  # Convert age to a 2D array\n",
    "    occupation_input = np.array(occupation).reshape(1, -1)  # Convert occupation to a 2D array\n",
    "\n",
    "    # Transform the data using the encoder\n",
    "    age_encoded = age_encoder.transform(age_input).toarray()  # Convert sparse matrix to dense array\n",
    "    occupation_encoded = occupation_encoder.transform(occupation_input).toarray()  # Convert sparse matrix to dense array\n",
    "\n",
    "    # Combine all features into a single array\n",
    "    input_features = np.hstack([gender, age_encoded.flatten(), occupation_encoded.flatten()])\n",
    "\n",
    "    # Reshape input to 2D array as expected by the model\n",
    "    input_features = input_features.reshape(1, -1)\n",
    "\n",
    "    feature_names = ['gender'] + list(age_encoder.get_feature_names_out(['AgeRange'])) + list(occupation_encoder.get_feature_names_out(['Occupation']))\n",
    "    input_features_df = pd.DataFrame(input_features, columns=feature_names)\n",
    "    \n",
    "    return input_features_df"
   ],
   "id": "e5bb4b1b113ee15f",
   "outputs": [],
   "execution_count": 90
  },
  {
   "metadata": {
    "ExecuteTime": {
     "end_time": "2024-08-04T01:04:52.477408Z",
     "start_time": "2024-08-04T01:04:52.474784Z"
    }
   },
   "cell_type": "code",
   "source": [
    "# Prepare a sample input\n",
    "gender = 1  # 0 for Male, 1 for Female\n",
    "age = 45  # Age \n",
    "occupation = \"lawyer\"  # Occupation code for \"college/grad student\""
   ],
   "id": "923eb6f1201d9cc6",
   "outputs": [],
   "execution_count": 95
  },
  {
   "metadata": {
    "ExecuteTime": {
     "end_time": "2024-08-04T01:04:52.988404Z",
     "start_time": "2024-08-04T01:04:52.984397Z"
    }
   },
   "cell_type": "code",
   "source": [
    "# Prepare the input data\n",
    "input_features = prepare_data(age, occupation, gender)"
   ],
   "id": "640a28c4dce700bc",
   "outputs": [],
   "execution_count": 96
  },
  {
   "metadata": {
    "ExecuteTime": {
     "end_time": "2024-08-04T01:04:53.425898Z",
     "start_time": "2024-08-04T01:04:53.368212Z"
    }
   },
   "cell_type": "code",
   "source": [
    "# Make predictions\n",
    "predictions = model.predict(input_features)"
   ],
   "id": "fb1d21f5c0a37264",
   "outputs": [],
   "execution_count": 97
  },
  {
   "metadata": {
    "ExecuteTime": {
     "end_time": "2024-08-04T01:04:53.866272Z",
     "start_time": "2024-08-04T01:04:53.862983Z"
    }
   },
   "cell_type": "code",
   "source": [
    "# Convert binary predictions to genre labels\n",
    "predicted_genre_labels = [genre for genre, flag in zip(genre_columns, predictions[0]) if flag == 1]\n",
    "\n",
    "# Display the predicted genres\n",
    "print(\"Predicted Genres:\", predicted_genre_labels)"
   ],
   "id": "a4ea7b10642c6db9",
   "outputs": [
    {
     "name": "stdout",
     "output_type": "stream",
     "text": [
      "Predicted Genres: ['Comedy', 'Drama', 'Thriller']\n"
     ]
    }
   ],
   "execution_count": 98
  },
  {
   "metadata": {
    "ExecuteTime": {
     "end_time": "2024-08-04T01:04:36.896735Z",
     "start_time": "2024-08-04T01:04:36.894828Z"
    }
   },
   "cell_type": "code",
   "source": "",
   "id": "5012b9b384cb33f",
   "outputs": [],
   "execution_count": 94
  }
 ],
 "metadata": {
  "kernelspec": {
   "display_name": "Python 3",
   "language": "python",
   "name": "python3"
  },
  "language_info": {
   "codemirror_mode": {
    "name": "ipython",
    "version": 2
   },
   "file_extension": ".py",
   "mimetype": "text/x-python",
   "name": "python",
   "nbconvert_exporter": "python",
   "pygments_lexer": "ipython2",
   "version": "2.7.6"
  }
 },
 "nbformat": 4,
 "nbformat_minor": 5
}
